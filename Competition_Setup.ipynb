{
 "cells": [
  {
   "cell_type": "code",
   "execution_count": 1,
   "id": "06f40113",
   "metadata": {},
   "outputs": [],
   "source": [
    "import pandas as pd\n",
    "from sklearn.model_selection import train_test_split\n",
    "\n",
    "# Load the full dataset\n",
    "df = pd.read_csv(\"cybersecurity_intrusion_data.csv\")\n",
    "\n",
    "# Split into 80% train and 20% test (stratified to maintain class balance)\n",
    "train_df, test_df = train_test_split(df, test_size=0.2, stratify=df[\"attack_detected\"], random_state=42)\n",
    "\n",
    "# Save the train.csv\n",
    "train_df.to_csv(\"train.csv\", index=False)\n",
    "\n",
    "# Remove the target for test.csv\n",
    "test_df.drop(columns=[\"attack_detected\"]).to_csv(\"test.csv\", index=False)\n",
    "\n",
    "# Create a sample submission file\n",
    "sample_submission = test_df[[\"session_id\"]].copy()\n",
    "sample_submission[\"attack_detected\"] = 0.0  # Dummy prediction (all zero)\n",
    "sample_submission.to_csv(\"sample_submission.csv\", index=False)\n"
   ]
  },
  {
   "cell_type": "code",
   "execution_count": 2,
   "id": "acfdb0ac",
   "metadata": {},
   "outputs": [],
   "source": [
    "# ✅ Create solution.csv\n",
    "solution = test_df[[\"session_id\", \"attack_detected\"]].copy()\n",
    "\n",
    "# Add Usage column (50% Public, 50% Private)\n",
    "usage_split = int(len(solution) * 0.5)\n",
    "solution[\"Usage\"] = [\"Public\"] * usage_split + [\"Private\"] * (len(solution) - usage_split)\n",
    "\n",
    "# Shuffle rows to mix public/private rows\n",
    "solution = solution.sample(frac=1, random_state=42).reset_index(drop=True)\n",
    "\n",
    "# Save solution file\n",
    "solution.to_csv(\"solution.csv\", index=False)"
   ]
  },
  {
   "cell_type": "code",
   "execution_count": null,
   "id": "de38d435",
   "metadata": {},
   "outputs": [],
   "source": [
    "# ✅ Load the solution.csv\n",
    "solution_df = pd.read_csv(\"solution.csv\")\n",
    "\n",
    "# ✅ Extract only the required submission columns\n",
    "perfect_submission = solution_df[[\"session_id\", \"attack_detected\"]].copy()\n",
    "\n",
    "# ✅ Save the perfect benchmark submission\n",
    "perfect_submission.to_csv(\"submission_perfect_benchmark.csv\", index=False)\n"
   ]
  },
  {
   "cell_type": "code",
   "execution_count": null,
   "id": "3ebf40b3",
   "metadata": {},
   "outputs": [],
   "source": [
    "\n",
    "# Create random submission to test\n",
    "submission = test_df[[\"session_id\"]].copy()\n",
    "submission[\"attack_detected\"] = np.random.randint(0, 2, size=len(submission))  # Random guess\n",
    "\n",
    "submission.to_csv(\"submission_benchmark.csv\", index=False)\n",
    "\n",
    "\n",
    "print(\"✅ Random benchmark solution.csv created.\")\n"
   ]
  }
 ],
 "metadata": {
  "kernelspec": {
   "display_name": "base",
   "language": "python",
   "name": "python3"
  },
  "language_info": {
   "codemirror_mode": {
    "name": "ipython",
    "version": 3
   },
   "file_extension": ".py",
   "mimetype": "text/x-python",
   "name": "python",
   "nbconvert_exporter": "python",
   "pygments_lexer": "ipython3",
   "version": "3.11.5"
  }
 },
 "nbformat": 4,
 "nbformat_minor": 5
}
